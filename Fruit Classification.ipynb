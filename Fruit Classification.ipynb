{
 "cells": [
  {
   "cell_type": "markdown",
   "metadata": {},
   "source": [
    "# Classification With TensorFlow\n",
    "\n",
    "### Introduction\n",
    "\n",
    "In this notebook, we will be classifying 65 different types of fruits using just over 43,000 images.  The fruits were planted in the shaft of a low speed motor (3 rpm) and a short movie of 20 seconds was recorded. A Logitech C920 camera was used for filming the fruits. This is one of the best webcams available. Behind the fruits we placed a white sheet of paper as background.  This dataset comes from kaggle.com https://www.kaggle.com/moltean/fruits\n",
    "\n",
    "### Basic Libraries"
   ]
  },
  {
   "cell_type": "code",
   "execution_count": 2,
   "metadata": {},
   "outputs": [
    {
     "name": "stderr",
     "output_type": "stream",
     "text": [
      "C:\\Users\\etallen127\\AppData\\Local\\Continuum\\Anaconda3\\lib\\site-packages\\h5py\\__init__.py:34: FutureWarning: Conversion of the second argument of issubdtype from `float` to `np.floating` is deprecated. In future, it will be treated as `np.float64 == np.dtype(float).type`.\n",
      "  from ._conv import register_converters as _register_converters\n",
      "Using TensorFlow backend.\n"
     ]
    }
   ],
   "source": [
    "import numpy as np\n",
    "import pandas as pd\n",
    "import matplotlib.pyplot as plt\n",
    "%matplotlib inline\n",
    "import keras as ks\n",
    "from skimage import io\n",
    "import os\n",
    "import csv"
   ]
  },
  {
   "cell_type": "markdown",
   "metadata": {},
   "source": [
    "### Functions"
   ]
  },
  {
   "cell_type": "code",
   "execution_count": 6,
   "metadata": {
    "collapsed": true
   },
   "outputs": [],
   "source": [
    "# Importing cv2 to help work with images\n",
    "import cv2\n",
    "\n",
    "# Creating a function to format images\n",
    "def load_images(path):\n",
    "    img_data = [] # return the image itself\n",
    "    labels = [] # adds a label based on the directory\n",
    "    index = [] # adds an index to reference image\n",
    "    x = -1\n",
    "    for pic in os.listdir(path):\n",
    "        pic_path = os.path.join(path,pic)\n",
    "        labels.append(pic)\n",
    "        x = x+1\n",
    "        for img in os.listdir(pic_path):\n",
    "            img_path = os.path.join(pic_path,img)\n",
    "            image = cv2.imread(img_path)\n",
    "            image = cv2.resize(image, (64, 64))\n",
    "            image = cv2.cvtColor(image, cv2.COLOR_RGB2BGR)\n",
    "            img_data.append(image)\n",
    "            index.append(x)\n",
    "    return np.array(img_data),np.array(index),labels"
   ]
  },
  {
   "cell_type": "markdown",
   "metadata": {},
   "source": [
    "### Shaping Data"
   ]
  },
  {
   "cell_type": "code",
   "execution_count": 7,
   "metadata": {
    "collapsed": true
   },
   "outputs": [],
   "source": [
    "# Setting up fill location for our load_images function\n",
    "train_path = 'fruits-360_dataset_2018_06_03/fruits-360/Training'\n",
    "valid_path = 'fruits-360_dataset_2018_06_03/fruits-360/Validation'"
   ]
  },
  {
   "cell_type": "code",
   "execution_count": 10,
   "metadata": {},
   "outputs": [],
   "source": [
    "# Calling function and creating train and test data\n",
    "X_train,y_train,label_data = load_images(train_path)\n",
    "X_test,y_test,label_data_garbage = load_images(valid_path)"
   ]
  },
  {
   "cell_type": "code",
   "execution_count": 13,
   "metadata": {},
   "outputs": [],
   "source": [
    "# Making Categorical\n",
    "num_of_classes = 65\n",
    "Y_train = ks.utils.np_utils.to_categorical(y_train, num_of_classes)\n",
    "Y_test = ks.utils.np_utils.to_categorical(y_test, num_of_classes)"
   ]
  },
  {
   "cell_type": "markdown",
   "metadata": {},
   "source": [
    "### Modeling"
   ]
  },
  {
   "cell_type": "code",
   "execution_count": 36,
   "metadata": {
    "collapsed": true
   },
   "outputs": [],
   "source": [
    "# Importing Modeling Tools\n",
    "from keras.models import Sequential\n",
    "from keras.layers import Dense, Dropout, Activation, Flatten\n",
    "from keras.layers import Conv2D, MaxPooling2D, ZeroPadding2D, GlobalAveragePooling2D\n",
    "from keras.layers.normalization import BatchNormalization"
   ]
  },
  {
   "cell_type": "code",
   "execution_count": 39,
   "metadata": {},
   "outputs": [],
   "source": [
    "# Init Model\n",
    "model = Sequential()"
   ]
  },
  {
   "cell_type": "code",
   "execution_count": 40,
   "metadata": {
    "collapsed": true
   },
   "outputs": [],
   "source": [
    "model.add(Conv2D(16, (3, 3), input_shape=(64,64,3)))\n",
    "model.add(BatchNormalization())\n",
    "model.add(Activation('relu'))\n",
    "model.add(Conv2D(16, (3, 3)))\n",
    "model.add(BatchNormalization())\n",
    "model.add(Activation('relu'))\n",
    "model.add(MaxPooling2D(pool_size=(2,2)))\n",
    "\n",
    "model.add(Conv2D(32,(3,3 )))\n",
    "model.add(BatchNormalization())\n",
    "model.add(Activation('relu'))\n",
    "model.add(Conv2D(32, (3, 3)))\n",
    "model.add(BatchNormalization())\n",
    "model.add(Activation('relu'))\n",
    "model.add(MaxPooling2D(pool_size=(2,2)))\n",
    "\n",
    "model.add(Conv2D(64, (3, 3)))\n",
    "model.add(BatchNormalization())\n",
    "model.add(Activation('relu'))\n",
    "model.add(MaxPooling2D(pool_size=(2,2)))\n",
    "\n",
    "\n",
    "model.add(Flatten())\n",
    "\n",
    "model.add(Dense(512))\n",
    "model.add(BatchNormalization())\n",
    "model.add(Activation('relu'))\n",
    "model.add(Dropout(0.8))\n",
    "model.add(Dense(65))\n",
    "\n",
    "model.add(Activation('softmax'))"
   ]
  },
  {
   "cell_type": "code",
   "execution_count": 41,
   "metadata": {
    "collapsed": true
   },
   "outputs": [],
   "source": [
    "# Compiling Model\n",
    "model.compile(loss='categorical_crossentropy', optimizer='rmsprop',metrics=['accuracy'])"
   ]
  },
  {
   "cell_type": "code",
   "execution_count": 42,
   "metadata": {},
   "outputs": [
    {
     "name": "stdout",
     "output_type": "stream",
     "text": [
      "Train on 32426 samples, validate on 10903 samples\n",
      "Epoch 1/5\n",
      "32426/32426 [==============================] - 844s 26ms/step - loss: 0.7395 - acc: 0.7950 - val_loss: 0.7178 - val_acc: 0.8120\n",
      "Epoch 2/5\n",
      "32426/32426 [==============================] - 827s 25ms/step - loss: 0.1679 - acc: 0.9447 - val_loss: 0.2699 - val_acc: 0.9142\n",
      "Epoch 3/5\n",
      "32426/32426 [==============================] - 822s 25ms/step - loss: 0.1138 - acc: 0.9628 - val_loss: 0.1713 - val_acc: 0.9483\n",
      "Epoch 4/5\n",
      "32426/32426 [==============================] - 825s 25ms/step - loss: 0.0925 - acc: 0.9692 - val_loss: 0.1523 - val_acc: 0.9582\n",
      "Epoch 5/5\n",
      "32426/32426 [==============================] - 828s 26ms/step - loss: 0.0782 - acc: 0.9742 - val_loss: 0.2062 - val_acc: 0.9435\n"
     ]
    },
    {
     "data": {
      "text/plain": [
       "<keras.callbacks.History at 0x1bc896edd68>"
      ]
     },
     "execution_count": 42,
     "metadata": {},
     "output_type": "execute_result"
    }
   ],
   "source": [
    "# Training Model\n",
    "model.fit(X_train,Y_train, epochs=5,batch_size = 32,\n",
    "                    validation_data=(X_test,Y_test))"
   ]
  },
  {
   "cell_type": "code",
   "execution_count": 43,
   "metadata": {},
   "outputs": [
    {
     "name": "stdout",
     "output_type": "stream",
     "text": [
      "10903/10903 [==============================] - 65s 6ms/step\n"
     ]
    },
    {
     "data": {
      "text/plain": [
       "[0.2061912194303365, 0.9435017884985784]"
      ]
     },
     "execution_count": 43,
     "metadata": {},
     "output_type": "execute_result"
    }
   ],
   "source": [
    "model.evaluate(X_test, Y_test)"
   ]
  },
  {
   "cell_type": "markdown",
   "metadata": {},
   "source": [
    "# Conclusion"
   ]
  }
 ],
 "metadata": {
  "kernelspec": {
   "display_name": "Python 3",
   "language": "python",
   "name": "python3"
  },
  "language_info": {
   "codemirror_mode": {
    "name": "ipython",
    "version": 3
   },
   "file_extension": ".py",
   "mimetype": "text/x-python",
   "name": "python",
   "nbconvert_exporter": "python",
   "pygments_lexer": "ipython3",
   "version": "3.6.1"
  }
 },
 "nbformat": 4,
 "nbformat_minor": 2
}
